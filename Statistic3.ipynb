{
 "cells": [
  {
   "cell_type": "markdown",
   "id": "805c98eb-16d8-475d-93fe-ed8db45114d9",
   "metadata": {},
   "source": [
    "#### Q1: What is Estimation Statistics? Explain point estimate and interval estimate."
   ]
  },
  {
   "cell_type": "markdown",
   "id": "ec1aa4eb-09ad-47cb-b85a-79be694bd293",
   "metadata": {},
   "source": [
    "#### solve\n",
    "Estimation in statistics refers to the process of using sample data to make inferences or predictions about population parameters. Estimation involves calculating point estimates and interval estimates to provide information about the likely values of population parameters.\n",
    "\n",
    "a.Point Estimate:\n",
    "\n",
    "A point estimate is a single value that serves as the best guess or approximation of a population parameter. It is based on the information gathered from a sample. The point estimate aims to provide a specific value that is likely to be close to the true value of the parameter.\n",
    "\n",
    "b.Interval Estimate:\n",
    "\n",
    "An interval estimate provides a range within which the true value of a population parameter is likely to fall. Instead of giving a single point, it gives a range of values along with a level of confidence. The interval estimate accounts for the uncertainty associated with estimating population parameters based on sample data.\n"
   ]
  },
  {
   "cell_type": "markdown",
   "id": "29d23a8e-addc-4a39-a413-8ede47a972b9",
   "metadata": {},
   "source": [
    "#### Q2. Write a Python function to estimate the population mean using a sample mean and standard deviation.\n"
   ]
  },
  {
   "cell_type": "markdown",
   "id": "98666607-022d-4810-9839-aec100d578fd",
   "metadata": {},
   "source": [
    "#### solve\n",
    "\n",
    "To estimate the population mean using a sample mean and standard deviation, you can use the t-distribution and calculate a confidence interval. Here's a Python function that takes the sample mean, sample standard deviation, sample size, and the desired confidence level as input and returns the confidence interval for the population mean:"
   ]
  },
  {
   "cell_type": "code",
   "execution_count": 13,
   "id": "d5f39f7b-26d1-447e-91e3-28bf6e9ca5a6",
   "metadata": {},
   "outputs": [
    {
     "name": "stdout",
     "output_type": "stream",
     "text": [
      "Population mean estimate: 50.5\n",
      "95.0% Confidence Interval: (46.765938632419, 54.234061367581)\n"
     ]
    }
   ],
   "source": [
    "import scipy.stats as stats\n",
    "\n",
    "def estimate_population_mean(sample_mean, sample_std_dev, sample_size, confidence_level=0.95):\n",
    "    \"\"\"\n",
    "    Estimate the population mean using a sample mean and standard deviation.\n",
    "\n",
    "    Parameters:\n",
    "    - sample_mean (float): The mean of the sample.\n",
    "    - sample_std_dev (float): The standard deviation of the sample.\n",
    "    - sample_size (int): The size of the sample.\n",
    "    - confidence_level (float, optional): The desired confidence level. Default is 0.95.\n",
    "\n",
    "    Returns:\n",
    "    - tuple: A tuple containing the lower and upper bounds of the confidence interval.\n",
    "    \"\"\"\n",
    "\n",
    "    # Calculate the standard error of the mean\n",
    "    standard_error = sample_std_dev / (sample_size ** 0.5)\n",
    "\n",
    "    # Find the t-value corresponding to the desired confidence level and degrees of freedom\n",
    "    degrees_of_freedom = sample_size - 1\n",
    "    t_value = stats.t.ppf((1 + confidence_level) / 2, degrees_of_freedom)\n",
    "\n",
    "    # Calculate the margin of error\n",
    "    margin_of_error = t_value * standard_error\n",
    "\n",
    "    # Calculate the confidence interval\n",
    "    lower_bound = sample_mean - margin_of_error\n",
    "    upper_bound = sample_mean + margin_of_error\n",
    "\n",
    "    return lower_bound, upper_bound\n",
    "\n",
    "# Example usage:\n",
    "sample_mean = 50.5\n",
    "sample_std_dev = 10.0\n",
    "sample_size = 30\n",
    "confidence_level = 0.95\n",
    "\n",
    "confidence_interval = estimate_population_mean(sample_mean, sample_std_dev, sample_size, confidence_level)\n",
    "print(\"Population mean estimate:\", sample_mean)\n",
    "print(f\"{confidence_level * 100}% Confidence Interval:\", confidence_interval)\n"
   ]
  },
  {
   "cell_type": "markdown",
   "id": "2e1f0ec6-bf36-4009-a36c-2ddbf80aae4b",
   "metadata": {},
   "source": [
    "#### Q3: What is Hypothesis testing? Why is it used? State the importance of Hypothesis testing."
   ]
  },
  {
   "cell_type": "markdown",
   "id": "27e0c582-0fdb-462c-9898-cf57aaeed8e9",
   "metadata": {},
   "source": [
    "#### solve\n",
    "Hypothesis testing is a statistical method used to make inferences about population parameters based on a sample of data. It involves formulating a hypothesis about a population parameter, collecting data, and using statistical techniques to determine whether the observed data provide enough evidence to reject or fail to reject the null hypothesis.\n",
    "\n",
    "The process typically invovles the following steps:\n",
    "    \n",
    "a. Formulating Hypotheses:\n",
    "\n",
    "Null Hypothesis(Ho): A statement that there is no sigificant difference or effect. it often represents a default or status or status quo assumption.\n",
    "\n",
    "Alternative Hypothesis (H1 Or Ha): A statement that there is a significant difference or effected. it is what the researchers aims to support.\n",
    "\n",
    "b.Collecting Data:\n",
    "\n",
    "Gather a sample of data relevant to the hypothesis.\n",
    "\n",
    "c.Performing Statistical Test:\n",
    "\n",
    "Use a statistical test (e.g., t-test, chi-square test, ANOVA) to analyze the data and calculate a test statistic.\n",
    "\n",
    "Importance of Hypothesis Testing:\n",
    "\n",
    "a.Decision-Making:\n",
    "\n",
    "Hypothesis testing provides a systematic and objective method for making decisions based on data. It helps researchers and decision-makers determine whether observed effects or differences are statistically significant.\n",
    "\n",
    "b.Scientific Inquiry:\n",
    "\n",
    "In scientific research, hypothesis testing is fundamental for validating or challenging theories and hypotheses. It allows researchers to draw conclusions about population parameters from sample data.\n",
    "\n",
    "c.Quality Control and Process Improvement:\n",
    "\n",
    "In manufacturing and industry, hypothesis testing is used to monitor and control processes. It helps identify deviations from established standards and guides improvements.\n",
    "\n",
    "d.Medical Research and Drug Development:\n",
    "\n",
    "Hypothesis testing is crucial in medical research to evaluate the effectiveness of treatments, drugs, and interventions. It informs decisions about the safety and efficacy of medical interventions.\n",
    "\n",
    "e.Business and Marketing:\n",
    "\n",
    "Businesses use hypothesis testing to assess marketing strategies, product effectiveness, customer preferences, and other factors influencing business outcomes.\n"
   ]
  },
  {
   "cell_type": "markdown",
   "id": "deadd5b7-9952-4df7-b2ea-1cdfded8a75f",
   "metadata": {},
   "source": [
    "#### Q4. Create a hypothesis that states whether the average weight of male college students is greater than the average weight of female college students.\n"
   ]
  },
  {
   "cell_type": "markdown",
   "id": "aa01fea6-6368-49ba-9c84-00c73462a167",
   "metadata": {},
   "source": [
    "#### solve\n",
    "Null Hypothesis (H0):\n",
    "\n",
    "The average weight of male college students is equal to or less than the average weight of female college students.\n",
    "\n",
    "Alternative Hypothesis (H1 or Ha) :\n",
    "\n",
    "The average weight of male college student is greater than average weight of female college students.\n",
    "\n",
    "In symbols:\n",
    "    \n",
    "Ho :μ male ≤ μ female\n",
    "\n",
    "H1 :μ male > μ female\n",
    "\n",
    "Here:\n",
    "\n",
    "μ male represents the population mean weight of male college students.\n",
    "\n",
    "μ female represents the population mean weight of female college students."
   ]
  },
  {
   "cell_type": "markdown",
   "id": "0a571a1f-9a93-492b-b7d6-83a0d36a881b",
   "metadata": {},
   "source": [
    "#### Q5. Write a Python script to conduct a hypothesis test on the difference between two population means, given a sample from each population.\n"
   ]
  },
  {
   "cell_type": "markdown",
   "id": "238ea351-2020-4214-a139-aff0577e99c0",
   "metadata": {},
   "source": [
    "#### solve\n",
    "\n",
    "Certainly! Below is an example Python script using the scipy.stats module to conduct a hypothesis test on the difference between two population means. This example uses an independent two-sample t-test assuming equal variances."
   ]
  },
  {
   "cell_type": "code",
   "execution_count": 14,
   "id": "fba97f76-deb6-4dc5-9c1b-712ad15ee2f9",
   "metadata": {},
   "outputs": [
    {
     "name": "stdout",
     "output_type": "stream",
     "text": [
      "Results of the Two-Sample T-Test:\n",
      "T-Statistic: -2.072024355950138\n",
      "P-Value: 0.04271922499809626\n",
      "Reject Null Hypothesis: True\n"
     ]
    }
   ],
   "source": [
    "import numpy as np\n",
    "from scipy.stats import ttest_ind\n",
    "\n",
    "def conduct_two_sample_t_test(sample1, sample2, alpha=0.05):\n",
    "    \"\"\"\n",
    "    Conducts a two-sample t-test for the difference between population means.\n",
    "\n",
    "    Parameters:\n",
    "    - sample1 (numpy array): Sample data for the first population.\n",
    "    - sample2 (numpy array): Sample data for the second population.\n",
    "    - alpha (float, optional): Significance level. Default is 0.05.\n",
    "\n",
    "    Returns:\n",
    "    - tuple: t-statistic, p-value, and whether to reject the null hypothesis.\n",
    "    \"\"\"\n",
    "\n",
    "    # Perform the two-sample t-test\n",
    "    t_statistic, p_value = ttest_ind(sample1, sample2, equal_var=True)\n",
    "\n",
    "    # Compare p-value to the significance level\n",
    "    reject_null = p_value < alpha\n",
    "\n",
    "    return t_statistic, p_value, reject_null\n",
    "\n",
    "# Example usage:\n",
    "np.random.seed(42)  # for reproducibility\n",
    "sample1 = np.random.normal(loc=50, scale=10, size=30)\n",
    "sample2 = np.random.normal(loc=55, scale=12, size=30)\n",
    "\n",
    "alpha = 0.05\n",
    "\n",
    "t_statistic, p_value, reject_null = conduct_two_sample_t_test(sample1, sample2, alpha)\n",
    "\n",
    "print(\"Results of the Two-Sample T-Test:\")\n",
    "print(f\"T-Statistic: {t_statistic}\")\n",
    "print(f\"P-Value: {p_value}\")\n",
    "print(f\"Reject Null Hypothesis: {reject_null}\")\n"
   ]
  },
  {
   "cell_type": "markdown",
   "id": "2c525931-585b-426c-85ed-625401118b1b",
   "metadata": {},
   "source": [
    "#### \n",
    "sample1 and sample2 are two independent samples from two populations.\n",
    "\n",
    "The ttest_ind function is used to perform an independent two-sample t-test.\n",
    "\n",
    "The script prints the t-statistic, p-value, and whether to reject the null hypothesis based on the chosen significance level (alpha).\n",
    "\n",
    "You can replace sample1 and sample2 with your actual data. If the p-value is less than the significance level (alpha), you may reject the null hypothesis, suggesting evidence of a significant difference between the population means."
   ]
  },
  {
   "cell_type": "markdown",
   "id": "c2741e5a-71d2-436d-90b3-bd1fc1bf7980",
   "metadata": {},
   "source": [
    "#### Q6: What is a null and alternative hypothesis? Give some examples."
   ]
  },
  {
   "cell_type": "markdown",
   "id": "c2a17cb0-ee38-4118-b824-117d67d95223",
   "metadata": {},
   "source": [
    "#### solve\n",
    "Null hypothesis(Ho):\n",
    "\n",
    "The null hypothesis is a statement of no effect, no difference, or no change in the population parameters. It serves as a default assumption that there is no real effect or relationship.\n",
    "\n",
    "Alternative Hypotesis(H1 or Ha)\n",
    "\n",
    "The alternative hypothesis is a statement that contradicts the null hypothesis. It represents the researcher's claim or the existence of an effect, difference, or relationship in the population. \n",
    "\n",
    "Examples:\n",
    "    \n",
    "a.Example for a mean comparison:\n",
    "    \n",
    "Null Hypothesis(Ho): The average height of male college student is equal to or less than the average height of female college students(μ male ≤ μ female).\n",
    "\n",
    "Alternative Hypothesis(H1 or Ha): The average height of male college student is greater than the average height of female college students(μ male > μ female)\n",
    "\n",
    "b.Example for a proportion comparison:\n",
    "    \n",
    "Null Hypothesis(Ho): The proportion of customers who prefer product A is eqal to or greater than the proportion who prefer product B (Pa > equal Pb)\n",
    "\n",
    "Alternate Hypothesis(H1 or Ha):  The proportion of customers who prefer product A is less than the proportion who prefer Product(Pa < Pb)\n",
    "\n",
    "c. Example for a correlation Test:\n",
    "\n",
    "Null Hypothesis(Ho): There is no correlation between hours of study and exam scores (p=0).\n",
    "\n",
    "Alternative Hypothesis(H1 or Ha): There is a significant correlation between hours of study and exam scores(p not equal 0)"
   ]
  },
  {
   "cell_type": "markdown",
   "id": "84a1b544-e51e-4217-adb9-a382bd4093bf",
   "metadata": {},
   "source": [
    "#### Q7: Write down the steps involved in hypothesis testing."
   ]
  },
  {
   "cell_type": "markdown",
   "id": "e539b255-99ad-4b27-a387-de26cf3039a0",
   "metadata": {},
   "source": [
    "#### solve\n",
    "\n",
    "Hypothesis testing involves a series of steps to make statistical inferences about population parameters based on sample data. Here are the general steps involved in hypothesis testing:\n",
    "    \n",
    "a.Formulate Hypotheses:\n",
    "\n",
    "Null Hypothesis ( H0): A statement of no effect, no difference, or no change. Typically represents the status quo or a default assumption.\n",
    "\n",
    "Alternative Hypothesis (H1 or Ha): A statement that contradicts the null hypothesis, representing the researcher's claim or the existence of an effect, difference, or relationship.\n",
    "\n",
    "b.Choose Significance Level (α):\n",
    "\n",
    "The significance level (α) is the probability of rejecting the null hypothesis when it is true. Common choices include 0.05, 0.01, or 0.10. It represents the acceptable level of risk for making a Type I error (false positive).\n",
    "\n",
    "c.Collect Data:\n",
    "\n",
    "Collect a sample of data relevant to the hypothesis. The data should be collected through appropriate sampling methods.\n",
    "\n",
    "d.Perform Statistical Test:\n",
    "\n",
    "Choose an appropriate statistical test based on the research question and type of data. Common tests include t-tests, chi-square tests, ANOVA, correlation tests, etc.\n",
    "\n",
    "e.Calculate Test Statistic:\n",
    "\n",
    "Calculate the test statistic based on the sample data and the chosen statistical test. The test statistic measures the difference between the observed data and what is expected under the null hypothesis.\n",
    "\n",
    "f.Determine Critical Region or P-Value:\n",
    "\n",
    "Critical Region Approach:\n",
    "\n",
    "Identify the critical region, which consists of extreme values of the test statistic that would lead to the rejection of the null hypothesis. Critical values depend on the chosen significance level and the distribution of the test statistic.\n",
    "\n",
    "g.P-Value Approach:\n",
    "\n",
    "Calculate the p-value, which represents the probability of obtaining results as extreme as the observed results, assuming the null hypothesis is true. If the p-value is less than or equal to the significance level, the null hypothesis is rejected.\n",
    "\n",
    "Make a Decision:\n",
    "\n",
    "a.Critical Region Approach:\n",
    "\n",
    "If the calculated test statistic falls in the critical region, reject the null hypothesis. Otherwise, fail to reject the null hypothesis.\n",
    "\n",
    "b.P-Value Approach:\n",
    "\n",
    "If the p-value is less than or equal to the significance level (α), reject the null hypothesis. Otherwise, fail to reject the null hypothesis.\n",
    "\n",
    "c.Draw Conclusions:\n",
    "\n",
    "Based on the decision, draw conclusions about the population parameter and the hypothesis. State the results in the context of the research question.\n",
    "\n",
    "d.Consider Practical Significance:\n",
    "\n",
    "Even if a statistically significant result is obtained, consider whether the observed effect is practically significant and has real-world importance.\n",
    "\n",
    "e.Report Findings:\n",
    "\n",
    "Clearly report the results of the hypothesis test, including the calculated test statistic, p-value, decision, and conclusions. Provide sufficient information for others to understand and replicate the analysis."
   ]
  },
  {
   "cell_type": "markdown",
   "id": "313ba01f-3172-41de-aca0-d87fd97d825e",
   "metadata": {},
   "source": [
    "#### Q8. Define p-value and explain its significance in hypothesis testing."
   ]
  },
  {
   "cell_type": "markdown",
   "id": "7fa9aec3-988a-4f08-9c6f-a75aaeb466eb",
   "metadata": {},
   "source": [
    "#### solve\n",
    "P-Value Definition:\n",
    "\n",
    "The p-value, or probability value, is a measure that helps assess the evidence against a null hypothesis in hypothesis testing. It represents the probability of obtaining test results as extreme as, or more extreme than, the observed results, assuming that the null hypothesis is true.\n",
    "\n",
    "In simpler terms, the p-value quantifies the likelihood of observing the data if the null hypothesis is correct. A lower p-value suggests stronger evidence against the null hypothesis, while a higher p-value indicates weaker evidence.\n",
    "\n",
    "Significance in Hypothesis Testing:\n",
    "\n",
    "a.Decision Rule:\n",
    "\n",
    "In hypothesis testing, the p-value is compared to the chosen significance level (α) to make a decision about whether to reject the null hypothesis.\n",
    "\n",
    "If the p-value is less than or equal to α, the null hypothesis is rejected. This implies that the observed data are unlikely to occur under the assumption that the null hypothesis is true.\n",
    "\n",
    "If the p-value is greater than α, there is insufficient evidence to reject the null hypothesis.\n",
    "\n",
    "b.Strength of Evidence:\n",
    "\n",
    "A smaller p-value indicates stronger evidence against the null hypothesis. It suggests that the observed data are less likely to occur by random chance if the null hypothesis is true.\n",
    "\n",
    "Conversely, a larger p-value suggests weaker evidence against the null hypothesis. It implies that the observed data are more consistent with the null hypothesis.\n",
    "\n",
    "c.Interpretation:\n",
    "\n",
    "If the p-value is very small (typically less than 0.05), researchers may conclude that the results are statistically significant, and there is evidence to reject the null hypothesis.\n",
    "\n",
    "If the p-value is not small (greater than or equal to 0.05), researchers may fail to reject the null hypothesis due to a lack of statistical significance.\n",
    "\n",
    "d.Error Rates:\n",
    "\n",
    "The p-value is closely related to the concept of Type I and Type II errors in hypothesis testing. A Type I error occurs when the null hypothesis is wrongly rejected, while a Type II error occurs when the null hypothesis is wrongly not rejected.\n",
    "\n",
    "The significance level (α) is the probability of making a Type I error. Therefore, a lower α leads to a more conservative test, but it also makes it harder to reject the null hypothesis.\n",
    "\n",
    "e.Continuous Interpretation:\n",
    "\n",
    "The p-value provides a continuous measure of evidence against the null hypothesis. Even if a strict decision is made (reject or fail to reject), the actual p-value can convey the strength of the evidence."
   ]
  },
  {
   "cell_type": "markdown",
   "id": "006cac2a-58ca-4e9b-9a68-d88a5c9453ff",
   "metadata": {},
   "source": [
    "#### Q9. Generate a Student's t-distribution plot using Python's matplotlib library, with the degrees of freedom parameter set to 10.\n"
   ]
  },
  {
   "cell_type": "markdown",
   "id": "45ba2df0-e0f4-4cdb-b2eb-1830efc6b04c",
   "metadata": {},
   "source": [
    "#### solve\n",
    "\n",
    "Certainly! You can use the scipy.stats module to generate a Student's t-distribution and the matplotlib library to plot it. Here's an example Python script:"
   ]
  },
  {
   "cell_type": "code",
   "execution_count": 15,
   "id": "2073445d-cd08-4efc-80bb-c4499c7df631",
   "metadata": {},
   "outputs": [
    {
     "data": {
      "image/png": "[encoded data removed]",
      "text/plain": [
       "<Figure size 800x600 with 1 Axes>"
      ]
     },
     "metadata": {},
     "output_type": "display_data"
    }
   ],
   "source": [
    "import numpy as np\n",
    "import matplotlib.pyplot as plt\n",
    "from scipy.stats import t\n",
    "\n",
    "# Set degrees of freedom\n",
    "degrees_of_freedom = 10\n",
    "\n",
    "# Generate data for the t-distribution\n",
    "x = np.linspace(-4, 4, 1000)\n",
    "y = t.pdf(x, df=degrees_of_freedom)\n",
    "\n",
    "# Plot the t-distribution\n",
    "plt.figure(figsize=(8, 6))\n",
    "plt.plot(x, y, label=f'Student\\'s t-distribution\\n(degrees of freedom = {degrees_of_freedom})')\n",
    "plt.title('Student\\'s t-distribution')\n",
    "plt.xlabel('x')\n",
    "plt.ylabel('Probability Density Function (PDF)')\n",
    "plt.legend()\n",
    "plt.grid(True)\n",
    "plt.show()\n"
   ]
  },
  {
   "cell_type": "markdown",
   "id": "04ae9786-3ec6-4e61-a393-b6a0299ff3e2",
   "metadata": {},
   "source": [
    "#### \n",
    "This script generates a plot of the probability density function (PDF) of the Student's t-distribution with degrees of freedom set to 10. Adjust the degrees_of_freedom variable to visualize the t-distribution with different degrees of freedom. The higher the degrees of freedom, the closer the t-distribution resembles a normal distribution."
   ]
  },
  {
   "cell_type": "markdown",
   "id": "ece27785-095a-48d5-b8ef-f578036b8b31",
   "metadata": {},
   "source": [
    "#### Q10. Write a Python program to calculate the two-sample t-test for independent samples, given two random samples of equal size and a null hypothesis that the population means are equal.\n"
   ]
  },
  {
   "cell_type": "markdown",
   "id": "2318337e-79f1-43d2-8151-1ae7fe03c359",
   "metadata": {},
   "source": [
    "#### solve\n",
    "The scipy.stats module in Python provides a function called ttest_ind that can be used to perform a two-sample t-test for independent samples. Here's an example Python program:"
   ]
  },
  {
   "cell_type": "code",
   "execution_count": 16,
   "id": "857d2a8f-c476-4492-b803-edb9f4437728",
   "metadata": {},
   "outputs": [
    {
     "name": "stdout",
     "output_type": "stream",
     "text": [
      "Results of the Two-Sample T-Test:\n",
      "T-Statistic: -2.072024355950138\n",
      "P-Value: 0.04271922499809626\n",
      "Reject Null Hypothesis: True\n"
     ]
    }
   ],
   "source": [
    "import numpy as np\n",
    "from scipy.stats import ttest_ind\n",
    "\n",
    "def two_sample_t_test(sample1, sample2, alpha=0.05):\n",
    "    \"\"\"\n",
    "    Perform a two-sample t-test for independent samples.\n",
    "\n",
    "    Parameters:\n",
    "    - sample1 (numpy array): First sample data.\n",
    "    - sample2 (numpy array): Second sample data.\n",
    "    - alpha (float, optional): Significance level. Default is 0.05.\n",
    "\n",
    "    Returns:\n",
    "    - tuple: t-statistic, p-value, and whether to reject the null hypothesis.\n",
    "    \"\"\"\n",
    "\n",
    "    # Perform the two-sample t-test\n",
    "    t_statistic, p_value = ttest_ind(sample1, sample2, equal_var=True)\n",
    "\n",
    "    # Compare p-value to the significance level\n",
    "    reject_null = p_value < alpha\n",
    "\n",
    "    return t_statistic, p_value, reject_null\n",
    "\n",
    "# Example usage:\n",
    "np.random.seed(42)  # for reproducibility\n",
    "sample_size = 30\n",
    "sample1 = np.random.normal(loc=50, scale=10, size=sample_size)\n",
    "sample2 = np.random.normal(loc=55, scale=12, size=sample_size)\n",
    "\n",
    "alpha = 0.05\n",
    "\n",
    "t_statistic, p_value, reject_null = two_sample_t_test(sample1, sample2, alpha)\n",
    "\n",
    "print(\"Results of the Two-Sample T-Test:\")\n",
    "print(f\"T-Statistic: {t_statistic}\")\n",
    "print(f\"P-Value: {p_value}\")\n",
    "print(f\"Reject Null Hypothesis: {reject_null}\")\n"
   ]
  },
  {
   "cell_type": "markdown",
   "id": "edb99e6d-7022-466b-9a00-0a1c465aab2c",
   "metadata": {},
   "source": [
    "####\n",
    "sample1 and sample2 are two independent samples from two populations.\n",
    "\n",
    "The ttest_ind function is used to perform an independent two-sample t-test.\n",
    "\n",
    "The script prints the t-statistic, p-value, and whether to reject the null hypothesis based on the chosen significance level (alpha).\n",
    "\n",
    "You can replace sample1 and sample2 with your actual data. If the p-value is less than the significance level (alpha), you may reject the null hypothesis, suggesting evidence of a significant difference between the population means. Adjust the alpha level based on your desired level of significance."
   ]
  },
  {
   "cell_type": "markdown",
   "id": "bb0230e4-7fb6-4d5b-b35a-e0efcb130bb0",
   "metadata": {},
   "source": [
    "#### Q11: What is Student’s t distribution? When to use the t-Distribution."
   ]
  },
  {
   "cell_type": "markdown",
   "id": "d0d13e76-28d5-4bb7-9190-aa69201c77d1",
   "metadata": {},
   "source": [
    "#### solve\n",
    "The Student's t-distribution, often simply called the t-distribution, is a probability distribution that is used in statistical hypothesis testing when the sample size is small and the population standard deviation is unknown. It is named after William Sealy Gosset, who published under the pseudonym \"Student\" to guard against industrial rivals.\n",
    "\n",
    "When to Use the t-Distribution:\n",
    "\n",
    "The t-distribution is used in various scenarios, especially when dealing with small sample sizes and unknown population standard deviations. Here are situations where the t-distribution is commonly applied:\n",
    "\n",
    "a.Small Sample Sizes:\n",
    "\n",
    "When the sample size is small (typically less than 30) and the population standard deviation is unknown, the t-distribution is more appropriate for making inferences about the population mean.\n",
    "\n",
    "b.Unknown Population Standard Deviation:\n",
    "\n",
    "When the population standard deviation is unknown, and it needs to be estimated from the sample standard deviation, the t-distribution is used instead of the normal distribution.\n",
    "\n",
    "c.Confidence Intervals for the Mean:\n",
    "\n",
    "When constructing confidence intervals for the population mean based on small samples, the t-distribution is employed. This is common in situations where the true population standard deviation is not known.\n",
    "\n",
    "d.Hypothesis Testing for the Mean:\n",
    "\n",
    "In hypothesis testing scenarios involving the population mean, especially when the sample size is small and the standard deviation is unknown, the t-distribution is used for calculating critical values and p-values.\n",
    "\n",
    "e.Comparing Means of Two Independent Samples:\n",
    "\n",
    "When comparing the means of two independent samples, particularly with small sample sizes, a two-sample t-test using the t-distribution is appropriate.\n",
    "\n",
    "f.Regression Analysis:\n",
    "\n",
    "In regression analysis, when estimating confidence intervals for regression coefficients or conducting hypothesis tests related to the coefficients, the t-distribution is often used."
   ]
  },
  {
   "cell_type": "markdown",
   "id": "1ef80472-9ba3-49f5-9e18-24217fb81d61",
   "metadata": {},
   "source": [
    "#### Q12: What is t-statistic? State the formula for t-statistic."
   ]
  },
  {
   "cell_type": "markdown",
   "id": "501dd1fe-82a3-48c9-949a-eced3fd8c3b9",
   "metadata": {},
   "source": [
    "#### solve\n",
    "\n",
    "The t-statistic is a measure used in hypothesis testing to assess the evidence against a null hypothesis. It quantifies how many standard errors a sample mean is from the hypothesized population mean. The t-statistic is commonly employed when dealing with small sample sizes and situations where the population standard deviation is unknown.\n",
    "\n",
    "Formula for the t-Statistic:\n",
    "\n",
    "The formula for the t-statistic depends on the context of its application. The most common formula is for testing the population mean when the population standard deviation is unknown and needs to be estimated from the sample data. The formula is as follows:\n",
    "    \n",
    "t= X bar - mu/8/root n\n",
    "\n",
    "Where:\n",
    "\n",
    "x is the sample mean,\n",
    "\n",
    "mu is the hypothesized population mean under the null hypothesis\n",
    "\n",
    "S is the sample standard deviation and\n",
    "\n",
    "n is the sample size.\n",
    "\n",
    "Interpretation:\n",
    "\n",
    "A larger absolute value of the t-statistic indicates a greater difference between the sample mean and the hypothesized population mean. The t-statistic is then compared to critical values or used to calculate a p-value to make a decision about whether to reject the null hypothesis."
   ]
  },
  {
   "cell_type": "markdown",
   "id": "a69b4bf9-b632-4fd5-ab3b-51de3edc83e2",
   "metadata": {},
   "source": [
    "#### Q13. A coffee shop owner wants to estimate the average daily revenue for their shop. They take a random sample of 50 days and find the sample mean revenue to be $500 with a standard deviation of $50. Estimate the population mean revenue with a 95% confidence interval.\n",
    "\n"
   ]
  },
  {
   "cell_type": "markdown",
   "id": "4b283843-775c-47da-ab26-c92defb0b084",
   "metadata": {},
   "source": [
    "#### solve\n",
    "\n",
    "To estimate the population mean revenue with a 95% confidence interval, you can use the formula for the confidence interval for the mean when the population standard deviation is unknown. The formula is:\n",
    "    \n",
    "Confidence Interval = X bar +- t(8/rootn)\n",
    "\n",
    "Where:\n",
    "    \n",
    "X bar is the sample mean\n",
    "\n",
    "s is the sample standard deviation\n",
    "\n",
    "n is the sample size\n",
    "\n",
    "t is  the critical value from the t-distribution based on the chosen confidence level and degrees of freedom."
   ]
  },
  {
   "cell_type": "code",
   "execution_count": 17,
   "id": "3e4656ac-b173-406a-9780-410029a869b8",
   "metadata": {},
   "outputs": [
    {
     "name": "stdout",
     "output_type": "stream",
     "text": [
      "95% Confidence Interval for the Population Mean Revenue: $485.79 to $514.21\n"
     ]
    }
   ],
   "source": [
    "import scipy.stats as stats\n",
    "import numpy as np\n",
    "\n",
    "# Given data\n",
    "sample_mean = 500\n",
    "sample_std_dev = 50\n",
    "sample_size = 50\n",
    "confidence_level = 0.95\n",
    "\n",
    "# Degrees of freedom\n",
    "df = sample_size - 1\n",
    "\n",
    "# Calculate the critical value (t)\n",
    "t_critical = stats.t.ppf((1 + confidence_level) / 2, df)\n",
    "\n",
    "# Calculate the margin of error\n",
    "margin_of_error = t_critical * (sample_std_dev / np.sqrt(sample_size))\n",
    "\n",
    "# Calculate the confidence interval\n",
    "lower_bound = sample_mean - margin_of_error\n",
    "upper_bound = sample_mean + margin_of_error\n",
    "\n",
    "# Display the results\n",
    "print(f\"95% Confidence Interval for the Population Mean Revenue: ${lower_bound:.2f} to ${upper_bound:.2f}\")\n"
   ]
  },
  {
   "cell_type": "markdown",
   "id": "752534d4-bf40-43dd-aedb-ef58f9e3b64c",
   "metadata": {},
   "source": [
    "####\n",
    "In this script, we use the t.ppf function from the scipy.stats module to find the critical value (t) for a 95% confidence interval. Then, we calculate the margin of error and determine the lower and upper bounds of the confidence interval."
   ]
  },
  {
   "cell_type": "markdown",
   "id": "4c8ee823-087a-4371-b536-e1a2d135dbef",
   "metadata": {},
   "source": [
    "#### Q14. A researcher hypothesizes that a new drug will decrease blood pressure by 10 mmHg. They conduct a clinical trial with 100 patients and find that the sample mean decrease in blood pressure is 8 mmHg with a standard deviation of 3 mmHg. Test the hypothesis with a significance level of 0.05."
   ]
  },
  {
   "cell_type": "markdown",
   "id": "5fdbab07-0b07-4473-bd76-d67bd9ee98f9",
   "metadata": {},
   "source": [
    "#### solve\n",
    "\n",
    "To test the hypothesis that the new drug decreases blood pressure by 10 mmHg, you can perform a one-sample t-test. The null hypothesis (H0) is that the mean decrease in blood pressure is equal to 10 mmHg, and the alternative hypothesis (H1 or Ha) is that the mean decrease is different from 10 mmHg.\n",
    "\n",
    "The formula for the one-sample t-statistic is:\n",
    "    \n",
    "t= X bar - mu/8/root n\n",
    "\n",
    "Where:\n",
    "\n",
    "x is the sample mean,\n",
    "\n",
    "mu is the hypothesized population mean under the null hypothesis\n",
    "\n",
    "S is the sample standard deviation and\n",
    "\n",
    "n is the sample size.\n",
    "\n",
    "Let's calculate the t-statistic and compare it to the critical value for a two-tailed test with a significance level of 0.05:"
   ]
  },
  {
   "cell_type": "code",
   "execution_count": 18,
   "id": "5a6a77a9-0e11-4da7-a320-81481637b049",
   "metadata": {},
   "outputs": [
    {
     "name": "stdout",
     "output_type": "stream",
     "text": [
      "T-Statistic: -6.6667\n",
      "Critical Value: 1.9842\n",
      "Reject the null hypothesis. There is evidence to suggest a significant difference in blood pressure.\n"
     ]
    }
   ],
   "source": [
    "import scipy.stats as stats\n",
    "import numpy as np\n",
    "\n",
    "# Given data\n",
    "sample_mean = 8\n",
    "hypothesized_mean = 10\n",
    "sample_std_dev = 3\n",
    "sample_size = 100\n",
    "significance_level = 0.05\n",
    "\n",
    "# Calculate the t-statistic\n",
    "t_statistic = (sample_mean - hypothesized_mean) / (sample_std_dev / np.sqrt(sample_size))\n",
    "\n",
    "# Degrees of freedom\n",
    "df = sample_size - 1\n",
    "\n",
    "# Calculate the critical value for a two-tailed test\n",
    "critical_value = stats.t.ppf(1 - significance_level / 2, df)\n",
    "\n",
    "# Print the results\n",
    "print(f\"T-Statistic: {t_statistic:.4f}\")\n",
    "print(f\"Critical Value: {critical_value:.4f}\")\n",
    "\n",
    "# Compare the t-statistic to the critical value\n",
    "if np.abs(t_statistic) > critical_value:\n",
    "    print(\"Reject the null hypothesis. There is evidence to suggest a significant difference in blood pressure.\")\n",
    "else:\n",
    "    print(\"Fail to reject the null hypothesis. The evidence is not sufficient to suggest a significant difference in blood pressure.\")\n"
   ]
  },
  {
   "cell_type": "markdown",
   "id": "47e558d1-e6c6-4236-83b8-575ea23f8061",
   "metadata": {},
   "source": [
    "#### \n",
    "In this script, we calculate the t-statistic, find the critical value for a two-tailed test, and compare the t-statistic to the critical value. If the absolute value of the t-statistic is greater than the critical value, we reject the null hypothesis, indicating evidence of a significant difference in blood pressure. Otherwise, we fail to reject the null hypothesis."
   ]
  },
  {
   "cell_type": "markdown",
   "id": "f3721df5-58fd-4bf9-9846-40ba9fb443b2",
   "metadata": {},
   "source": [
    "#### Q15. An electronics company produces a certain type of product with a mean weight of 5 pounds and a standard deviation of 0.5 pounds. A random sample of 25 products is taken, and the sample mean weight is found to be 4.8 pounds. Test the hypothesis that the true mean weight of the products is less than 5 pounds with a significance level of 0.01."
   ]
  },
  {
   "cell_type": "markdown",
   "id": "4c25319a-0cb0-47b1-a10e-f8141a91e7eb",
   "metadata": {},
   "source": [
    "#### solve\n",
    "\n",
    "To test the hypothesis that the true mean weight of the products is less than 5 pounds, you can perform a one-sample t-test for a population mean (μ). The null hypothesis (H0) is that the mean weight is equal to or greater than 5 pounds (≥ 5 μ≥5), and the alternative hypothesis (H1 or Ha) is that the mean weight is less than 5 pounds (< 5 μ<5).\n",
    "\n",
    "The formula for the one-sample t-statistic is:\n",
    "    \n",
    "t= X bar - mu/8/root n\n",
    "\n",
    "Where:\n",
    "\n",
    "x is the sample mean,\n",
    "\n",
    "mu is the hypothesized population mean under the null hypothesis\n",
    "\n",
    "S is the sample standard deviation and\n",
    "\n",
    "n is the sample size.\n",
    "\n",
    "Let's calculate the t-statistic and compare it to the critical value for a two-tailed test with a significance level of 0.01:"
   ]
  },
  {
   "cell_type": "code",
   "execution_count": 19,
   "id": "354d1415-8d24-4cbb-a27b-0db523dd48bf",
   "metadata": {},
   "outputs": [
    {
     "name": "stdout",
     "output_type": "stream",
     "text": [
      "T-Statistic: -2.0000\n",
      "Critical Value: -2.4922\n",
      "Fail to reject the null hypothesis. The evidence is not sufficient to suggest the true mean weight is less than 5 pounds.\n"
     ]
    }
   ],
   "source": [
    "import scipy.stats as stats\n",
    "import numpy as np\n",
    "\n",
    "# Given data\n",
    "sample_mean = 4.8\n",
    "hypothesized_mean = 5\n",
    "sample_std_dev = 0.5\n",
    "sample_size = 25\n",
    "significance_level = 0.01\n",
    "\n",
    "# Calculate the t-statistic\n",
    "t_statistic = (sample_mean - hypothesized_mean) / (sample_std_dev / np.sqrt(sample_size))\n",
    "\n",
    "# Degrees of freedom\n",
    "df = sample_size - 1\n",
    "\n",
    "# Calculate the critical value for a one-tailed test\n",
    "critical_value = stats.t.ppf(significance_level, df)\n",
    "\n",
    "# Print the results\n",
    "print(f\"T-Statistic: {t_statistic:.4f}\")\n",
    "print(f\"Critical Value: {critical_value:.4f}\")\n",
    "\n",
    "# Compare the t-statistic to the critical value\n",
    "if t_statistic < critical_value:\n",
    "    print(\"Reject the null hypothesis. There is evidence to suggest the true mean weight is less than 5 pounds.\")\n",
    "else:\n",
    "    print(\"Fail to reject the null hypothesis. The evidence is not sufficient to suggest the true mean weight is less than 5 pounds.\")\n"
   ]
  },
  {
   "cell_type": "markdown",
   "id": "f6318128-501d-435a-93da-37e93cf84eb8",
   "metadata": {},
   "source": [
    "####\n",
    "In this script, we calculate the t-statistic, find the critical value for a one-tailed test, and compare the t-statistic to the critical value. If the t-statistic is less than the critical value, we reject the null hypothesis, indicating evidence that the true mean weight is less than 5 pounds. Otherwise, we fail to reject the null hypothesis."
   ]
  },
  {
   "cell_type": "markdown",
   "id": "cdf414a7-47b5-4b57-ba20-f19bec0ad2c4",
   "metadata": {},
   "source": [
    "#### Q16. Two groups of students are given different study materials to prepare for a test. The first group (n1 = 30) has a mean score of 80 with a standard deviation of 10, and the second group (n2 = 40) has a mean score of 75 with a standard deviation of 8. Test the hypothesis that the population means for the two groups are equal with a significance level of 0.01."
   ]
  },
  {
   "cell_type": "markdown",
   "id": "3b5d0126-f70a-4539-b851-25d9a9503971",
   "metadata": {},
   "source": [
    "#### solve\n",
    "To test the hypothesis that the population means for the two groups are equal, you can perform an independent two-sample t-test. The null hypothesis (H0) is that the means are equal (=2μ1=μ 2), and the alternative hypothesis (H1 or Ha) is that the means are different (1 ≠ 2μ1=μ2).\n",
    "\n",
    "The formula for the two-sample t-statistic is:\n",
    "    \n",
    "t = Xbar1 -Xbar2/root s(2 to 1)/n1 + s(2 to 2)/n2\n",
    "\n",
    "where:\n",
    "\n",
    "X1bar and X2bar are the sample means of the two groups,\n",
    "\n",
    "s1 and s2 are the sample standard deviation of the two groups,\n",
    "\n",
    "n1 and n2 are the sample size of the two groups.\n",
    "\n",
    "Let's calculate the t-statistic and compare it to the critical value for a two-tailed test with a significance level of 0.01:"
   ]
  },
  {
   "cell_type": "code",
   "execution_count": 11,
   "id": "d831cb21-90c0-4165-95fc-536736ccd481",
   "metadata": {},
   "outputs": [
    {
     "name": "stdout",
     "output_type": "stream",
     "text": [
      "T-Statistic: 2.2511\n",
      "Critical Value: 2.6501\n",
      "Fail to reject the null hypothesis. The evidence is not sufficient to suggest a significant difference in mean scores between the two groups.\n"
     ]
    }
   ],
   "source": [
    "import scipy.stats as stats\n",
    "import numpy as np\n",
    "\n",
    "# Group 1 data\n",
    "mean1 = 80\n",
    "std_dev1 = 10\n",
    "sample_size1 = 30\n",
    "\n",
    "# Group 2 data\n",
    "mean2 = 75\n",
    "std_dev2 = 8\n",
    "sample_size2 = 40\n",
    "\n",
    "# Significance level\n",
    "significance_level = 0.01\n",
    "\n",
    "# Calculate the two-sample t-statistic\n",
    "t_statistic = (mean1 - mean2) / np.sqrt((std_dev1**2 / sample_size1) + (std_dev2**2 / sample_size2))\n",
    "\n",
    "# Degrees of freedom\n",
    "df = sample_size1 + sample_size2 - 2\n",
    "\n",
    "# Calculate the critical value for a two-tailed test\n",
    "critical_value = stats.t.ppf(1 - significance_level / 2, df)\n",
    "\n",
    "# Print the results\n",
    "print(f\"T-Statistic: {t_statistic:.4f}\")\n",
    "print(f\"Critical Value: {critical_value:.4f}\")\n",
    "\n",
    "# Compare the t-statistic to the critical value\n",
    "if np.abs(t_statistic) > critical_value:\n",
    "    print(\"Reject the null hypothesis. There is evidence to suggest a significant difference in mean scores between the two groups.\")\n",
    "else:\n",
    "    print(\"Fail to reject the null hypothesis. The evidence is not sufficient to suggest a significant difference in mean scores between the two groups.\")\n"
   ]
  },
  {
   "cell_type": "markdown",
   "id": "daccd8d8-930d-4eec-a8be-6b44314d3e00",
   "metadata": {},
   "source": [
    "####\n",
    "In this script, we calculate the two-sample t-statistic, find the critical value for a two-tailed test, and compare the absolute value of the t-statistic to the critical value. If the absolute value of the t-statistic is greater than the critical value, we reject the null hypothesis, indicating evidence of a significant difference in mean scores between the two groups. Otherwise, we fail to reject the null hypothesis."
   ]
  },
  {
   "cell_type": "markdown",
   "id": "ba5ce938-2fa1-4e16-b85d-8dbdc83f1625",
   "metadata": {},
   "source": [
    "#### Q17. A marketing company wants to estimate the average number of ads watched by viewers during a TV program. They take a random sample of 50 viewers and find that the sample mean is 4 with a standard deviation of 1.5. Estimate the population mean with a 99% confidence interval."
   ]
  },
  {
   "cell_type": "markdown",
   "id": "cc51af2f-4f04-4137-94ac-305fe57d6ace",
   "metadata": {},
   "source": [
    "#### solve\n",
    "\n",
    "To estimate the population mean with a 99% confidence interval, we can use the formula for the confidence interval for the mean when the population standard deviation is unknown:\n",
    "    \n",
    "Confidence Interval= Xbar +- t(8/root n)\n",
    "\n",
    "where:\n",
    "\n",
    "Xbar is the sample mean\n",
    "\n",
    "s is the sample standard devation,\n",
    "\n",
    "n is the sample size\n",
    "\n",
    "t is the critical value from the t-distribution based on the chose confidence level and degree of freedom\n",
    "\n",
    "Let's calculate the confidence interval using Python:"
   ]
  },
  {
   "cell_type": "code",
   "execution_count": 12,
   "id": "d0aef68a-c1d7-4bf5-b04a-2fd9f05e856c",
   "metadata": {},
   "outputs": [
    {
     "name": "stdout",
     "output_type": "stream",
     "text": [
      "99% Confidence Interval for the Population Mean Number of Ads Watched: 3.4315 to 4.5685\n"
     ]
    }
   ],
   "source": [
    "import scipy.stats as stats\n",
    "import numpy as np\n",
    "\n",
    "# Given data\n",
    "sample_mean = 4\n",
    "sample_std_dev = 1.5\n",
    "sample_size = 50\n",
    "confidence_level = 0.99\n",
    "\n",
    "# Degrees of freedom\n",
    "df = sample_size - 1\n",
    "\n",
    "# Calculate the critical value (t)\n",
    "t_critical = stats.t.ppf((1 + confidence_level) / 2, df)\n",
    "\n",
    "# Calculate the margin of error\n",
    "margin_of_error = t_critical * (sample_std_dev / np.sqrt(sample_size))\n",
    "\n",
    "# Calculate the confidence interval\n",
    "lower_bound = sample_mean - margin_of_error\n",
    "upper_bound = sample_mean + margin_of_error\n",
    "\n",
    "# Display the results\n",
    "print(f\"99% Confidence Interval for the Population Mean Number of Ads Watched: {lower_bound:.4f} to {upper_bound:.4f}\")\n"
   ]
  },
  {
   "cell_type": "markdown",
   "id": "116e95c4-ade4-4f74-a237-9c91923a29ad",
   "metadata": {},
   "source": [
    "####\n",
    "In this script, we use the t.ppf function from the scipy.stats module to find the critical value (t), calculate the margin of error, and determine the lower and upper bounds of the 99% confidence interval. The result will be a 99% confidence interval for the population mean number of ads watched."
   ]
  },
  {
   "cell_type": "code",
   "execution_count": null,
   "id": "75ae1ffe-b5ed-42fd-86d5-b2bc87993bba",
   "metadata": {},
   "outputs": [],
   "source": []
  }
 ],
 "metadata": {
  "kernelspec": {
   "display_name": "Python 3 (ipykernel)",
   "language": "python",
   "name": "python3"
  },
  "language_info": {
   "codemirror_mode": {
    "name": "ipython",
    "version": 3
   },
   "file_extension": ".py",
   "mimetype": "text/x-python",
   "name": "python",
   "nbconvert_exporter": "python",
   "pygments_lexer": "ipython3",
   "version": "3.10.8"
  }
 },
 "nbformat": 4,
 "nbformat_minor": 5
}
